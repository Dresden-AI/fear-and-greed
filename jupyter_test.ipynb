{
 "cells": [
  {
   "cell_type": "code",
   "execution_count": null,
   "metadata": {},
   "outputs": [],
   "source": [
    "import pandas as pd\n",
    "def diff():\n",
    "    df = pd.read_csv(\"backupData/sp500components.csv\", index_col=0)\n",
    "    df_last_components = df.iloc[-1, 0]\n",
    "    df_last_components = df_last_components.split(\",\")\n",
    "    df2 = pd.read_csv(\"data/sp500_companies.csv\")\n",
    "    df2_last_components = df2.iloc[:, 0].to_list()\n",
    "    # calculate the difference between the two lists\n",
    "    if sorted(list(df_last_components)) != sorted(list(set(df_last_components))) or sorted(list(df2_last_components)) != sorted(list(set(df2_last_components))):\n",
    "        raise ValueError(\"The input lists must be sets\")\n",
    "    return (list(set(df_last_components) - set(df2_last_components)), list(set(df2_last_components) - set(df_last_components)))\n",
    "print(diff())\n",
    "def add_change():\n",
    "    change = input(\"Enter a change in the format YYYY-MM-DD;Add1,Add2;Rem1,Rem2:\")\n",
    "    if change.count(\";\") != 2:\n",
    "        print(\"The input must contain two semicolons\")\n",
    "        return\n",
    "    change = change.split(\";\")\n",
    "    change_date = change[0]\n",
    "    add = change[1].split(\",\")\n",
    "    remove = change[2].split(\",\")\n",
    "    df = pd.read_csv(\"backupData/sp500components.csv\", index_col=0)\n",
    "    # last date in the dataframe\n",
    "    last_date = pd.to_datetime(df.index[-1]).date()\n",
    "    change_date = pd.to_datetime(change_date).date()\n",
    "    # if last date is less than the change date\n",
    "    if last_date < change_date:\n",
    "        # get the last row in the dataframe\n",
    "        last_row = df.iloc[-1, 0]\n",
    "        last_row = last_row.split(\",\")\n",
    "        # add the new components\n",
    "        if add != [\"\"]:\n",
    "            last_row.extend(add)\n",
    "        # remove the components\n",
    "        for i in remove:\n",
    "            if not i:\n",
    "                continue\n",
    "            if i not in last_row:\n",
    "                raise ValueError(\"The component to be removed must be in the dataframe\")\n",
    "            last_row.remove(i)\n",
    "        # remove duplicates\n",
    "        last_row = sorted(list(set(last_row)))\n",
    "        # convert the list to a string\n",
    "        last_row = \",\".join(last_row)\n",
    "        # add the new row to the dataframe\n",
    "        df.loc[change_date] = last_row\n",
    "        # save the dataframe\n",
    "        df.to_csv(\"backupData/sp500components.csv\")\n",
    "\n",
    "    else:\n",
    "        raise ValueError(\"The date must be later than the last date in the dataframe\")\n",
    "add_change()"
   ]
  },
  {
   "cell_type": "code",
   "execution_count": null,
   "metadata": {},
   "outputs": [],
   "source": [
    "import pandas as pd\n",
    "\n",
    "df = pd.read_csv(\"backupData/sp500components.csv\", index_col=0)\n",
    "df.index = pd.to_datetime(df.index)\n",
    "#df = df.resample(\"D\").ffill()\n",
    "#df = df.iloc[:,0].str.split(\",\", expand=True)\n",
    "df"
   ]
  },
  {
   "cell_type": "code",
   "execution_count": null,
   "metadata": {},
   "outputs": [],
   "source": [
    "# import os\n",
    "# import utils\n",
    "# data_dir = \"test_data/\"\n",
    "# if not os.path.exists(data_dir):\n",
    "#     os.mkdir(data_dir)"
   ]
  },
  {
   "cell_type": "code",
   "execution_count": null,
   "metadata": {},
   "outputs": [],
   "source": [
    "# utils.fetch_yf_data('AAPL', data_dir, '2019-01-01', '2020-01-01')\n",
    "# utils.fetch_yf_data('AAPL', data_dir, '2018-12-31', '2020-01-01')\n",
    "# utils.fetch_yf_data('AAPL', data_dir, '2000-01-01')"
   ]
  },
  {
   "cell_type": "markdown",
   "metadata": {},
   "source": [
    "# Test Metrics"
   ]
  },
  {
   "cell_type": "code",
   "execution_count": null,
   "metadata": {
    "notebookRunGroups": {
     "groupValue": "1"
    }
   },
   "outputs": [],
   "source": [
    "import os\n",
    "from metrics import *\n",
    "import plotting\n",
    "data_dir = \"test_data/\"\n",
    "if not os.path.exists(data_dir):\n",
    "    os.mkdir(data_dir)\n",
    "start_date = '2000-01-01'\n",
    "end_date = '2024-01-01'"
   ]
  },
  {
   "cell_type": "code",
   "execution_count": null,
   "metadata": {},
   "outputs": [],
   "source": [
    "def showMetricsCalculation(metric : Metric, y_axis = [\"left\", \"right\", \"right\"]):\n",
    "    # plot all stages (data, processed, result)\n",
    "    graph_list = [\n",
    "        plotting.Graph(metric.data, y_axis=y_axis[0], df_color=\"black\", df_label=\"data\"), \n",
    "        plotting.Graph(metric.processed, y_axis=y_axis[1], df_color=\"blue\", df_label=\"processed\"), \n",
    "        plotting.Graph(metric.result, y_axis=y_axis[2], df_color=\"red\", df_label=\"result\")\n",
    "    ]\n",
    "    plotting.plot_graph(graph_list, neutral_line=None, title=metric.name)"
   ]
  },
  {
   "cell_type": "code",
   "execution_count": null,
   "metadata": {},
   "outputs": [],
   "source": [
    "Metric.setPreferences(data_dir, start_date, end_date)\n",
    "metrics = []\n",
    "metrics.append(SP500Momentum())\n",
    "for metric in metrics:\n",
    "    metric.get()\n",
    "    showMetricsCalculation(metric)"
   ]
  }
 ],
 "metadata": {
  "kernelspec": {
   "display_name": "Python 3",
   "language": "python",
   "name": "python3"
  },
  "language_info": {
   "codemirror_mode": {
    "name": "ipython",
    "version": 3
   },
   "file_extension": ".py",
   "mimetype": "text/x-python",
   "name": "python",
   "nbconvert_exporter": "python",
   "pygments_lexer": "ipython3",
   "version": "3.11.4"
  }
 },
 "nbformat": 4,
 "nbformat_minor": 2
}
